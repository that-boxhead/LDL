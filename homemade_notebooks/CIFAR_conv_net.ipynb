{
 "cells": [
  {
   "cell_type": "code",
   "execution_count": 1,
   "id": "0fa64aee",
   "metadata": {},
   "outputs": [
    {
     "name": "stderr",
     "output_type": "stream",
     "text": [
      "/Users/maxb/Library/Python/3.9/lib/python/site-packages/urllib3/__init__.py:35: NotOpenSSLWarning: urllib3 v2 only supports OpenSSL 1.1.1+, currently the 'ssl' module is compiled with 'LibreSSL 2.8.3'. See: https://github.com/urllib3/urllib3/issues/3020\n",
      "  warnings.warn(\n"
     ]
    }
   ],
   "source": [
    "import tensorflow as tf\n",
    "from tensorflow import keras\n",
    "import numpy as np\n",
    "import matplotlib.pyplot as plt\n",
    "import logging\n",
    "from tensorflow.keras.utils import to_categorical\n",
    "tf.get_logger().setLevel(logging.ERROR)\n",
    "\n",
    "cifar_dataset = keras.datasets.cifar10\n",
    "(train_images, train_labels), (test_images,\n",
    "    test_labels) = cifar_dataset.load_data()\n",
    "\n",
    "train_images_norm = np.zeros(train_images.shape)\n",
    "test_images_norm = np.zeros(test_images.shape)"
   ]
  },
  {
   "cell_type": "code",
   "execution_count": 2,
   "id": "ecf67912",
   "metadata": {},
   "outputs": [],
   "source": [
    "channel_means = np.mean(train_images,axis=(0,1,2))\n",
    "channel_stddevs = np.std(train_images,axis=(0,1,2))\n",
    "#train_images = np.apply_over_axes(lambda px: ((px - channel_means) / channel_stddevs),train_images,(0,1,2))\n",
    "#test_images = np.apply_over_axes(lambda px: ((px - channel_means) / channel_stddevs),test_images,(0,1,2))\n",
    "\n",
    "for px_pos in range(3):\n",
    "    train_images_norm[:,:,:,px_pos] = (train_images[:,:,:,px_pos] - channel_means[px_pos]) / channel_stddevs[px_pos]\n",
    "    test_images_norm[:,:,:,px_pos] = (test_images[:,:,:,px_pos] - channel_means[px_pos]) / channel_stddevs[px_pos]\n",
    "\n",
    "# Change labels to one-hot.\n",
    "train_labels = to_categorical(train_labels,\n",
    "                              num_classes=10)\n",
    "test_labels = to_categorical(test_labels,\n",
    "                             num_classes=10)"
   ]
  },
  {
   "cell_type": "code",
   "execution_count": 10,
   "id": "af50121e",
   "metadata": {},
   "outputs": [
    {
     "name": "stdout",
     "output_type": "stream",
     "text": [
      "Epoch 1/3\n",
      "Epoch 2/3\n",
      "Epoch 3/3\n"
     ]
    }
   ],
   "source": [
    "model = keras.Sequential([\n",
    "    keras.layers.Conv2D(32,\n",
    "                        8, \n",
    "                        activation='tanh',\n",
    "                        kernel_initializer='random_normal',\n",
    "                        bias_initializer='zeros'),\n",
    "    keras.layers.Conv2D(10,8,\n",
    "                       activation='tanh',\n",
    "                       kernel_initializer='random_normal',\n",
    "                       bias_initializer='zeros'),\n",
    "    keras.layers.Flatten(),\n",
    "    keras.layers.Dense(10, activation='softmax',\n",
    "                       kernel_initializer='random_normal',\n",
    "                       bias_initializer='zeros')])\n",
    "\n",
    "model.compile(loss='categorical_crossentropy',\n",
    "              optimizer = 'adam',\n",
    "              metrics =['accuracy'])\n",
    "\n",
    "history = model.fit(train_images_norm, train_labels,\n",
    "                    validation_data=(test_images_norm, test_labels),\n",
    "                    epochs=3, batch_size=1,\n",
    "                    verbose=3, shuffle=True)\n"
   ]
  },
  {
   "cell_type": "code",
   "execution_count": 17,
   "id": "ec4f6dd8",
   "metadata": {},
   "outputs": [
    {
     "name": "stdout",
     "output_type": "stream",
     "text": [
      "\u001b[1m1/1\u001b[0m \u001b[32m━━━━━━━━━━━━━━━━━━━━\u001b[0m\u001b[37m\u001b[0m \u001b[1m0s\u001b[0m 18ms/step\n"
     ]
    },
    {
     "data": {
      "text/plain": [
       "array([6, 9, 9, 3, 2, 6, 5, 4, 0, 9])"
      ]
     },
     "execution_count": 17,
     "metadata": {},
     "output_type": "execute_result"
    }
   ],
   "source": [
    "np.argmax(model.predict(test_images_norm[:10]),1)"
   ]
  },
  {
   "cell_type": "code",
   "execution_count": 26,
   "id": "42088944",
   "metadata": {},
   "outputs": [
    {
     "data": {
      "image/png": "[encoded data removed]",
      "text/plain": [
       "<Figure size 100x100 with 1 Axes>"
      ]
     },
     "metadata": {},
     "output_type": "display_data"
    }
   ],
   "source": [
    "plt.figure(figsize=(1, 1))\n",
    "plt.imshow(test_images[8])\n",
    "plt.show()"
   ]
  },
  {
   "cell_type": "code",
   "execution_count": 27,
   "id": "b890166f",
   "metadata": {},
   "outputs": [
    {
     "data": {
      "text/plain": [
       "array([0., 0., 0., 1., 0., 0., 0., 0., 0., 0.])"
      ]
     },
     "execution_count": 27,
     "metadata": {},
     "output_type": "execute_result"
    }
   ],
   "source": [
    "test_labels[8]"
   ]
  }
 ],
 "metadata": {
  "kernelspec": {
   "display_name": "Python 3",
   "language": "python",
   "name": "python3"
  },
  "language_info": {
   "codemirror_mode": {
    "name": "ipython",
    "version": 3
   },
   "file_extension": ".py",
   "mimetype": "text/x-python",
   "name": "python",
   "nbconvert_exporter": "python",
   "pygments_lexer": "ipython3",
   "version": "3.9.6"
  }
 },
 "nbformat": 4,
 "nbformat_minor": 5
}
