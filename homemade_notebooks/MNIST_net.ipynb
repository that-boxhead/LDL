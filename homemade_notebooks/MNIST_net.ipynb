{
 "cells": [
  {
   "cell_type": "code",
   "execution_count": 1,
   "metadata": {},
   "outputs": [],
   "source": [
    "import numpy\n",
    "#import kagglehub"
   ]
  },
  {
   "cell_type": "code",
   "execution_count": 2,
   "metadata": {},
   "outputs": [],
   "source": [
    "#path = kagglehub.dataset_download(\"hojjatk/mnist-dataset\")"
   ]
  },
  {
   "cell_type": "code",
   "execution_count": 7,
   "metadata": {},
   "outputs": [
    {
     "name": "stdout",
     "output_type": "stream",
     "text": [
      "dimensions of train_images:  (60000, 28, 28)\n",
      "dimensions of train_labels:  (60000,)\n",
      "dimensions of test_images:  (10000, 28, 28)\n",
      "dimensions of test_labels:  (10000,)\n"
     ]
    }
   ],
   "source": [
    "import idx2numpy\n",
    "TEST_IMAGE_FILENAME = r'c:\\Users\\maxb\\OneDrive - Graphcore\\Documents\\LDL\\data\\mnist\\t10k-images.idx3-ubyte'\n",
    "TEST_LABEL_FILENAME = r'c:\\Users\\maxb\\OneDrive - Graphcore\\Documents\\LDL\\data\\mnist\\t10k-labels.idx1-ubyte'\n",
    "TRAIN_IMAGE_FILENAME = r'c:\\Users\\maxb\\OneDrive - Graphcore\\Documents\\LDL\\data\\mnist\\train-images.idx3-ubyte'\n",
    "TRAIN_LABEL_FILENAME = r'c:\\Users\\maxb\\OneDrive - Graphcore\\Documents\\LDL\\data\\mnist\\train-labels.idx1-ubyte'\n",
    "\n",
    "# Read files.\n",
    "train_images = idx2numpy.convert_from_file(\n",
    "    TRAIN_IMAGE_FILENAME)\n",
    "train_labels = idx2numpy.convert_from_file(\n",
    "    TRAIN_LABEL_FILENAME)\n",
    "test_images = idx2numpy.convert_from_file(TEST_IMAGE_FILENAME)\n",
    "test_labels = idx2numpy.convert_from_file(TEST_LABEL_FILENAME)\n",
    "\n",
    "# Print dimensions.\n",
    "print('dimensions of train_images: ', train_images.shape)\n",
    "print('dimensions of train_labels: ', train_labels.shape)\n",
    "print('dimensions of test_images: ', test_images.shape)\n",
    "print('dimensions of test_labels: ', test_labels.shape)\n"
   ]
  },
  {
   "cell_type": "code",
   "execution_count": null,
   "metadata": {},
   "outputs": [
    {
     "name": "stdout",
     "output_type": "stream",
     "text": [
      "label for first training example:  5\n",
      "---beginning of pattern for first training example---\n",
      "[0 0 0 0 0 0 0 0 0 0 0 0 0 0 0 0 0 0 0 0 0 0 0 0 0 0 0 0]\n",
      "                                                        \n",
      "[0 0 0 0 0 0 0 0 0 0 0 0 0 0 0 0 0 0 0 0 0 0 0 0 0 0 0 0]\n",
      "                                                        \n",
      "[0 0 0 0 0 0 0 0 0 0 0 0 0 0 0 0 0 0 0 0 0 0 0 0 0 0 0 0]\n",
      "                                                        \n",
      "[0 0 0 0 0 0 0 0 0 0 0 0 0 0 0 0 0 0 0 0 0 0 0 0 0 0 0 0]\n",
      "                                                        \n",
      "[0 0 0 0 0 0 0 0 0 0 0 0 0 0 0 0 0 0 0 0 0 0 0 0 0 0 0 0]\n",
      "                                                        \n",
      "[0 0 0 0 0 0 0 0 0 0 0 0 0 0 0 0 0 0 0 0 0 0 0 0 0 0 0 0]\n",
      "                                                        \n",
      "[  0   0   0   0   0   0   0   0   0   0   0   0  17  66 138 255 253 253\n",
      " 253 201 127   0   0   0   0   0   0   0]\n",
      "                        * * * * * * * * *               \n",
      "[  0   0   0   0   0   0   0   0   0   0   0  51 228 252 252 228 236 252\n",
      " 252 252 230   0   0   0   0   0   0   0]\n",
      "                      * * * * * * * * * *               \n",
      "[  0   0   0   0   0   0   0   0   0   0   0 161 252 252 136  32  44  69\n",
      "  69  69  63   0   0   0   0   0   0   0]\n",
      "                      * * * * * * * * * *               \n",
      "[  0   0   0   0   0   0   0   0   0   0   9 194 252 134   4   0   0   0\n",
      "   0   0   0   0   0   0   0   0   0   0]\n",
      "                    * * * * *                           \n",
      "[  0   0   0   0   0   0   0   0   0   0 181 252 189   4   0   0   0   0\n",
      "   0   0   0   0   0   0   0   0   0   0]\n",
      "                    * * * *                             \n",
      "[  0   0   0   0   0   0   0   0   0   0 255 253 137  24  24  24  19   0\n",
      "   0   0   0   0   0   0   0   0   0   0]\n",
      "                    * * * * * * *                       \n",
      "[  0   0   0   0   0   0   0   0   0   0 253 252 252 252 252 253 236  78\n",
      "   9   0   0   0   0   0   0   0   0   0]\n",
      "                    * * * * * * * * *                   \n",
      "[  0   0   0   0   0   0   0   0   0  53 253 252 233 183 215 222 252 252\n",
      "  77   0   0   0   0   0   0   0   0   0]\n",
      "                  * * * * * * * * * *                   \n",
      "[  0   0   0   0   0   0   0   0   0   0 161  87  33   0  21  25 135 252\n",
      " 160   0   0   0   0   0   0   0   0   0]\n",
      "                    * * *   * * * * *                   \n",
      "[  0   0   0   0   0   0   0   0   0   0   0   0   0   0   0   0  99 252\n",
      " 202  11   0   0   0   0   0   0   0   0]\n",
      "                                * * * *                 \n",
      "[  0   0   0   0   0   0   0   0   0   0   0   0   0   0   0   3 170 253\n",
      "  98   0   0   0   0   0   0   0   0   0]\n",
      "                              * * * *                   \n",
      "[  0   0   0   0   0   0   0   0   0   0   0   0   0   0   0  24 252 252\n",
      "  45   0   0   0   0   0   0   0   0   0]\n",
      "                              * * * *                   \n",
      "[  0   0   0   0   0   0   0   0   0   0   0   0   0   0   0 108 252 233\n",
      "  33   0   0   0   0   0   0   0   0   0]\n",
      "                              * * * *                   \n",
      "[  0   0   0   0   0   0   0   0   0   0   0   0   0   0  43 233 252 141\n",
      "   0   0   0   0   0   0   0   0   0   0]\n",
      "                            * * * *                     \n",
      "[  0   0   0   0   0   0   0   0   0   0   0   0   0   0 220 253 210   6\n",
      "   0   0   0   0   0   0   0   0   0   0]\n",
      "                            * * * *                     \n",
      "[  0   0   0   0   0   0   0   0   0   0   0   0   7 160 253 179  42   0\n",
      "   0   0   0   0   0   0   0   0   0   0]\n",
      "                        * * * * *                       \n",
      "[  0   0   0   0   0   0   0   0   0   0   0  30 155 252 231  42   0   0\n",
      "   0   0   0   0   0   0   0   0   0   0]\n",
      "                      * * * * *                         \n",
      "[  0   0   0   0   0   0   0   0   0   0  49 228 252 227  48   0   0   0\n",
      "   0   0   0   0   0   0   0   0   0   0]\n",
      "                    * * * * *                           \n",
      "[  0   0   0   0   0   0   0   0   0  43 233 252 195  29   0   0   0   0\n",
      "   0   0   0   0   0   0   0   0   0   0]\n",
      "                  * * * * *                             \n",
      "[  0   0   0   0   0   0   0   0   0 220 137 117  16   0   0   0   0   0\n",
      "   0   0   0   0   0   0   0   0   0   0]\n",
      "                  * * * *                               \n",
      "[0 0 0 0 0 0 0 0 0 0 0 0 0 0 0 0 0 0 0 0 0 0 0 0 0 0 0 0]\n",
      "                                                        \n",
      "[0 0 0 0 0 0 0 0 0 0 0 0 0 0 0 0 0 0 0 0 0 0 0 0 0 0 0 0]\n",
      "                                                        \n",
      "---end of pattern for first training example---\n"
     ]
    }
   ],
   "source": [
    "# Print one training example.\n",
    "print('label for first training example: ', train_labels[0])\n",
    "print('---beginning of pattern for first training example---')\n",
    "for line in train_images[420]:\n",
    "    #print(line)\n",
    "    for num in line:\n",
    "        if num > 0:\n",
    "            print('*', end = ' ')\n",
    "        else:\n",
    "            print(' ', end = ' ')\n",
    "    print('')\n",
    "print('---end of pattern for first training example---')"
   ]
  }
 ],
 "metadata": {
  "kernelspec": {
   "display_name": "Python 3",
   "language": "python",
   "name": "python3"
  },
  "language_info": {
   "codemirror_mode": {
    "name": "ipython",
    "version": 3
   },
   "file_extension": ".py",
   "mimetype": "text/x-python",
   "name": "python",
   "nbconvert_exporter": "python",
   "pygments_lexer": "ipython3",
   "version": "3.12.6"
  }
 },
 "nbformat": 4,
 "nbformat_minor": 2
}
