{
 "cells": [
  {
   "cell_type": "code",
   "execution_count": 1,
   "metadata": {},
   "outputs": [],
   "source": [
    "import numpy\n",
    "#import kagglehub"
   ]
  },
  {
   "cell_type": "code",
   "execution_count": 2,
   "metadata": {},
   "outputs": [],
   "source": [
    "#path = kagglehub.dataset_download(\"hojjatk/mnist-dataset\")"
   ]
  },
  {
   "cell_type": "code",
   "execution_count": 7,
   "metadata": {},
   "outputs": [
    {
     "name": "stdout",
     "output_type": "stream",
     "text": [
      "dimensions of train_images:  (60000, 28, 28)\n",
      "dimensions of train_labels:  (60000,)\n",
      "dimensions of test_images:  (10000, 28, 28)\n",
      "dimensions of test_labels:  (10000,)\n"
     ]
    }
   ],
   "source": [
    "import idx2numpy\n",
    "TEST_IMAGE_FILENAME = r'c:\\Users\\maxb\\OneDrive - Graphcore\\Documents\\LDL\\data\\mnist\\t10k-images.idx3-ubyte'\n",
    "TEST_LABEL_FILENAME = r'c:\\Users\\maxb\\OneDrive - Graphcore\\Documents\\LDL\\data\\mnist\\t10k-labels.idx1-ubyte'\n",
    "TRAIN_IMAGE_FILENAME = r'c:\\Users\\maxb\\OneDrive - Graphcore\\Documents\\LDL\\data\\mnist\\train-images.idx3-ubyte'\n",
    "TRAIN_LABEL_FILENAME = r'c:\\Users\\maxb\\OneDrive - Graphcore\\Documents\\LDL\\data\\mnist\\train-labels.idx1-ubyte'\n",
    "\n",
    "# Read files.\n",
    "train_images = idx2numpy.convert_from_file(\n",
    "    TRAIN_IMAGE_FILENAME)\n",
    "train_labels = idx2numpy.convert_from_file(\n",
    "    TRAIN_LABEL_FILENAME)\n",
    "test_images = idx2numpy.convert_from_file(TEST_IMAGE_FILENAME)\n",
    "test_labels = idx2numpy.convert_from_file(TEST_LABEL_FILENAME)\n",
    "\n",
    "# Print dimensions.\n",
    "print('dimensions of train_images: ', train_images.shape)\n",
    "print('dimensions of train_labels: ', train_labels.shape)\n",
    "print('dimensions of test_images: ', test_images.shape)\n",
    "print('dimensions of test_labels: ', test_labels.shape)\n"
   ]
  }
 ],
 "metadata": {
  "kernelspec": {
   "display_name": "Python 3",
   "language": "python",
   "name": "python3"
  },
  "language_info": {
   "codemirror_mode": {
    "name": "ipython",
    "version": 3
   },
   "file_extension": ".py",
   "mimetype": "text/x-python",
   "name": "python",
   "nbconvert_exporter": "python",
   "pygments_lexer": "ipython3",
   "version": "3.12.6"
  }
 },
 "nbformat": 4,
 "nbformat_minor": 2
}
