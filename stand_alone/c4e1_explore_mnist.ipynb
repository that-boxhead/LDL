{
 "cells": [
  {
   "cell_type": "code",
   "execution_count": 1,
   "metadata": {},
   "outputs": [
    {
     "data": {
      "text/plain": [
       "'\\nThe MIT License (MIT)\\nCopyright (c) 2021 NVIDIA\\nPermission is hereby granted, free of charge, to any person obtaining a copy of\\nthis software and associated documentation files (the \"Software\"), to deal in\\nthe Software without restriction, including without limitation the rights to\\nuse, copy, modify, merge, publish, distribute, sublicense, and/or sell copies of\\nthe Software, and to permit persons to whom the Software is furnished to do so,\\nsubject to the following conditions:\\nThe above copyright notice and this permission notice shall be included in all\\ncopies or substantial portions of the Software.\\nTHE SOFTWARE IS PROVIDED \"AS IS\", WITHOUT WARRANTY OF ANY KIND, EXPRESS OR\\nIMPLIED, INCLUDING BUT NOT LIMITED TO THE WARRANTIES OF MERCHANTABILITY, FITNESS\\nFOR A PARTICULAR PURPOSE AND NONINFRINGEMENT. IN NO EVENT SHALL THE AUTHORS OR\\nCOPYRIGHT HOLDERS BE LIABLE FOR ANY CLAIM, DAMAGES OR OTHER LIABILITY, WHETHER\\nIN AN ACTION OF CONTRACT, TORT OR OTHERWISE, ARISING FROM, OUT OF OR IN\\nCONNECTION WITH THE SOFTWARE OR THE USE OR OTHER DEALINGS IN THE SOFTWARE.\\n'"
      ]
     },
     "execution_count": 1,
     "metadata": {},
     "output_type": "execute_result"
    }
   ],
   "source": [
    "\"\"\"\n",
    "The MIT License (MIT)\n",
    "Copyright (c) 2021 NVIDIA\n",
    "Permission is hereby granted, free of charge, to any person obtaining a copy of\n",
    "this software and associated documentation files (the \"Software\"), to deal in\n",
    "the Software without restriction, including without limitation the rights to\n",
    "use, copy, modify, merge, publish, distribute, sublicense, and/or sell copies of\n",
    "the Software, and to permit persons to whom the Software is furnished to do so,\n",
    "subject to the following conditions:\n",
    "The above copyright notice and this permission notice shall be included in all\n",
    "copies or substantial portions of the Software.\n",
    "THE SOFTWARE IS PROVIDED \"AS IS\", WITHOUT WARRANTY OF ANY KIND, EXPRESS OR\n",
    "IMPLIED, INCLUDING BUT NOT LIMITED TO THE WARRANTIES OF MERCHANTABILITY, FITNESS\n",
    "FOR A PARTICULAR PURPOSE AND NONINFRINGEMENT. IN NO EVENT SHALL THE AUTHORS OR\n",
    "COPYRIGHT HOLDERS BE LIABLE FOR ANY CLAIM, DAMAGES OR OTHER LIABILITY, WHETHER\n",
    "IN AN ACTION OF CONTRACT, TORT OR OTHERWISE, ARISING FROM, OUT OF OR IN\n",
    "CONNECTION WITH THE SOFTWARE OR THE USE OR OTHER DEALINGS IN THE SOFTWARE.\n",
    "\"\"\""
   ]
  },
  {
   "cell_type": "markdown",
   "metadata": {},
   "source": [
    "This code example loads and explores the MNIST dataset. The dataset first needs to be downloaded and decompressed into the ../data/mnist directory (see README file). More context for this code example can be found in the section \"Exploring the dataset\" in Chapter 4 in the book Learning Deep Learning by Magnus Ekman (ISBN: 9780137470358)."
   ]
  },
  {
   "cell_type": "markdown",
   "metadata": {},
   "source": [
    "The first code snippet shows how we load the files into NumPy arrays and then print the dimensions of these arrays. The file format is not a standard image format, but it is easy to read the files using the idx2numpy library. The dataset is assumed to be in the directory ../data/mnist/.\n"
   ]
  },
  {
   "cell_type": "code",
   "execution_count": 2,
   "metadata": {},
   "outputs": [
    {
     "name": "stdout",
     "output_type": "stream",
     "text": [
      "dimensions of train_images:  (60000, 28, 28)\n",
      "dimensions of train_labels:  (60000,)\n",
      "dimensions of test_images:  (10000, 28, 28)\n",
      "dimensions of test_labels:  (10000,)\n"
     ]
    }
   ],
   "source": [
    "import idx2numpy\n",
    "TRAIN_IMAGE_FILENAME = '../data/mnist/train-images-idx3-ubyte'\n",
    "TRAIN_LABEL_FILENAME = '../data/mnist/train-labels-idx1-ubyte'\n",
    "TEST_IMAGE_FILENAME = '../data/mnist/t10k-images-idx3-ubyte'\n",
    "TEST_LABEL_FILENAME = '../data/mnist/t10k-labels-idx1-ubyte'\n",
    "\n",
    "# Read files.\n",
    "train_images = idx2numpy.convert_from_file(\n",
    "    TRAIN_IMAGE_FILENAME)\n",
    "train_labels = idx2numpy.convert_from_file(\n",
    "    TRAIN_LABEL_FILENAME)\n",
    "test_images = idx2numpy.convert_from_file(TEST_IMAGE_FILENAME)\n",
    "test_labels = idx2numpy.convert_from_file(TEST_LABEL_FILENAME)\n",
    "\n",
    "# Print dimensions.\n",
    "print('dimensions of train_images: ', train_images.shape)\n",
    "print('dimensions of train_labels: ', train_labels.shape)\n",
    "print('dimensions of test_images: ', test_images.shape)\n",
    "print('dimensions of test_labels: ', test_labels.shape)\n"
   ]
  },
  {
   "cell_type": "markdown",
   "metadata": {},
   "source": [
    "The next code snippet prints out the first training label and image pattern.\n"
   ]
  },
  {
   "cell_type": "code",
   "execution_count": 3,
   "metadata": {},
   "outputs": [
    {
     "name": "stdout",
     "output_type": "stream",
     "text": [
      "label for first training example:  5\n",
      "---beginning of pattern for first training example---\n",
      "                                                        \n",
      "                                                        \n",
      "                                                        \n",
      "                                                        \n",
      "                                                        \n",
      "                        * * * * * * * * * * * *         \n",
      "                * * * * * * * * * * * * * * * *         \n",
      "              * * * * * * * * * * * * * * * *           \n",
      "              * * * * * * * * * * *                     \n",
      "                * * * * * * *   * *                     \n",
      "                  * * * * *                             \n",
      "                      * * * *                           \n",
      "                      * * * *                           \n",
      "                        * * * * * *                     \n",
      "                          * * * * * *                   \n",
      "                            * * * * * *                 \n",
      "                              * * * * *                 \n",
      "                                  * * * *               \n",
      "                            * * * * * * *               \n",
      "                        * * * * * * * *                 \n",
      "                    * * * * * * * * *                   \n",
      "                * * * * * * * * * *                     \n",
      "            * * * * * * * * * *                         \n",
      "        * * * * * * * * * *                             \n",
      "        * * * * * * * *                                 \n",
      "                                                        \n",
      "                                                        \n",
      "                                                        \n",
      "---end of pattern for first training example---\n"
     ]
    }
   ],
   "source": [
    "# Print one training example.\n",
    "print('label for first training example: ', train_labels[0])\n",
    "print('---beginning of pattern for first training example---')\n",
    "for line in train_images[0]:\n",
    "    for num in line:\n",
    "        if num > 0:\n",
    "            print('*', end = ' ')\n",
    "        else:\n",
    "            print(' ', end = ' ')\n",
    "    print('')\n",
    "print('---end of pattern for first training example---')\n"
   ]
  }
 ],
 "metadata": {
  "kernelspec": {
   "display_name": "Python 3",
   "language": "python",
   "name": "python3"
  },
  "language_info": {
   "codemirror_mode": {
    "name": "ipython",
    "version": 3
   },
   "file_extension": ".py",
   "mimetype": "text/x-python",
   "name": "python",
   "nbconvert_exporter": "python",
   "pygments_lexer": "ipython3",
   "version": "3.9.6"
  }
 },
 "nbformat": 4,
 "nbformat_minor": 2
}
